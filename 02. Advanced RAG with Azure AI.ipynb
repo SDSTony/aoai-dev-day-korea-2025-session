{
 "cells": [
  {
   "cell_type": "markdown",
   "id": "1c8484df",
   "metadata": {},
   "source": [
    "# 2. Azure 솔루션을 활용한 Advanced RAG 구현"
   ]
  },
  {
   "cell_type": "markdown",
   "id": "49d556f5",
   "metadata": {},
   "source": [
    "## 2.1 Azure OpenAI On Your Data"
   ]
  },
  {
   "cell_type": "code",
   "execution_count": null,
   "id": "064c2a02",
   "metadata": {},
   "outputs": [],
   "source": [
    "import os\n",
    "from dotenv import load_dotenv\n",
    "\n",
    "load_dotenv()\n",
    "search_endpoint = os.getenv(\"AZURE_SEARCH_ENDPOINT\")\n",
    "search_key = os.getenv(\"AZURE_SEARCH_API_KEY\")\n",
    "aoai_endpoint = os.getenv(\"AZURE_OPENAI_ENDPOINT\")\n",
    "aoai_key = os.getenv(\"AZURE_OPENAI_API_KEY\")\n",
    "embedding_deployment = os.getenv(\"AZURE_OPENAI_EMBEDDING_DEPLOYMENT_NAME\")\n",
    "chat_deployment = os.getenv(\"AZURE_OPENAI_CHAT_DEPLOYMENT_NAME\")"
   ]
  },
  {
   "cell_type": "code",
   "execution_count": null,
   "id": "c8096fe6",
   "metadata": {},
   "outputs": [],
   "source": [
    "# Import libraries\n",
    "from openai import AzureOpenAI\n",
    "\n",
    "# Set up the Azure OpenAI client\n",
    "openai_client = AzureOpenAI(\n",
    "     api_version=\"2024-05-01-preview\",\n",
    "     azure_endpoint=aoai_endpoint,\n",
    "     api_key=aoai_key\n",
    " )\n",
    "\n",
    "deployment_name = chat_deployment\n",
    "\n",
    "response = openai_client.chat.completions.create(\n",
    "    messages=[\n",
    "        {   \"role\": \"system\",\n",
    "            \"content\": \"너는 인사 지원 에이전트야. 친절하게 이모티콘을 많이써서 답변하고, 참고해야 하는 자료 중에 관련 내용이 없다면 모르겠다고 답변할것. 그리고 관련 문의는 HR팀에게 해야 한다고 답변할 것.\"\n",
    "        },\n",
    "        {\n",
    "            \"role\": \"user\",\n",
    "            \"content\": \"치과에서 임플란트랑 충치 치료를 최근에 했는데 사내 실비 보험으로 청구 가능한가요? 그리고 수술 관련 때문에 입원을 해야 할 것 같은데 병가를 사용할 수 있나요?\"\n",
    "        }\n",
    "    ],\n",
    "    model=deployment_name,\n",
    "    temperature=0,\n",
    "    extra_body={\n",
    "        \"data_sources\": [\n",
    "            {\n",
    "                \"type\": \"azure_search\",\n",
    "                \"parameters\": {\n",
    "                    \"endpoint\": search_endpoint,\n",
    "                    \"index_name\": \"aoai-dev-day-index\",\n",
    "                    \"authentication\": {\n",
    "                        \"type\": \"api_key\",\n",
    "                        \"key\": search_key,\n",
    "                        },\n",
    "                    \"query_type\": \"vector\",\n",
    "                    \"embedding_dependency\": {\n",
    "                        \"type\": \"deployment_name\",\n",
    "                        \"deployment_name\": embedding_deployment,\n",
    "                        \"dimensions\": 1536\n",
    "                    },\n",
    "                    \"top_n_documents\": 4,\n",
    "                    \"include_contexts\": [\"citations\", \"intent\", \"all_retrieved_documents\"]\n",
    "                }\n",
    "            }\n",
    "        ]\n",
    "    }\n",
    ")\n",
    "\n",
    "print(response.choices[0].message.content)"
   ]
  },
  {
   "cell_type": "code",
   "execution_count": null,
   "id": "11eec596",
   "metadata": {},
   "outputs": [],
   "source": [
    "response.choices[0].message.context['intent']"
   ]
  },
  {
   "cell_type": "code",
   "execution_count": null,
   "id": "0269555d",
   "metadata": {},
   "outputs": [],
   "source": [
    "response.choices[0].message.context['citations']"
   ]
  },
  {
   "cell_type": "code",
   "execution_count": null,
   "id": "d1d5b6cc",
   "metadata": {},
   "outputs": [],
   "source": [
    "response.choices[0].message.context['all_retrieved_documents']"
   ]
  },
  {
   "cell_type": "code",
   "execution_count": null,
   "id": "41964491",
   "metadata": {},
   "outputs": [],
   "source": []
  }
 ],
 "metadata": {
  "kernelspec": {
   "display_name": "aoaidevday",
   "language": "python",
   "name": "python3"
  },
  "language_info": {
   "codemirror_mode": {
    "name": "ipython",
    "version": 3
   },
   "file_extension": ".py",
   "mimetype": "text/x-python",
   "name": "python",
   "nbconvert_exporter": "python",
   "pygments_lexer": "ipython3",
   "version": "3.11.11"
  }
 },
 "nbformat": 4,
 "nbformat_minor": 5
}
