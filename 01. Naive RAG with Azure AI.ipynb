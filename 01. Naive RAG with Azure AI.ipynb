{
 "cells": [
  {
   "cell_type": "markdown",
   "id": "1c8484df",
   "metadata": {},
   "source": [
    "# 1. Azure 솔루션을 활용한 Naive RAG 구현"
   ]
  },
  {
   "cell_type": "markdown",
   "id": "b53319d9",
   "metadata": {},
   "source": [
    "- Disclaimer: 본 코드는 Azure의 보안 best practice를 고려하여 작성한 코드가 아닙니다. Azure 솔루션으로 RAG 구축 과정을 알아보는 것이 학습 목표이므로 최대한 코드를 간결하게 유지하기 위해 Azure의 Identity 관리 솔루션 등을 사용하지 않았습니다. \n",
    "\n",
    "- 참고 문헌:\n",
    "  - [Build a RAG solution in Azure AI Search](https://github.com/Azure-Samples/azure-search-python-samples/blob/main/Tutorial-RAG/Tutorial-rag.ipynb)\n",
    "  - [mslearn-knowledge-mining](https://github.com/MicrosoftLearning/mslearn-knowledge-mining)"
   ]
  },
  {
   "cell_type": "markdown",
   "id": "49d556f5",
   "metadata": {},
   "source": [
    "## 1.1 Indexing 구현하기"
   ]
  },
  {
   "cell_type": "markdown",
   "id": "de1771ee",
   "metadata": {},
   "source": [
    "vector search 가능하게끔"
   ]
  },
  {
   "cell_type": "code",
   "execution_count": null,
   "id": "0c0c3349",
   "metadata": {},
   "outputs": [],
   "source": [
    "import os\n",
    "from dotenv import load_dotenv\n",
    "from azure.core.credentials import AzureKeyCredential\n",
    "from azure.search.documents.indexes import SearchIndexClient\n",
    "from azure.search.documents.indexes import SearchIndexerClient\n",
    "from azure.search.documents import SearchClient\n",
    "from azure.search.documents.indexes.models import (\n",
    "    SearchField,\n",
    "    SearchFieldDataType,\n",
    "    VectorSearch,\n",
    "    HnswAlgorithmConfiguration,\n",
    "    VectorSearchProfile,\n",
    "    AzureOpenAIVectorizer,\n",
    "    AzureOpenAIVectorizerParameters,\n",
    "    SearchIndex,\n",
    "    SearchIndexerDataContainer,\n",
    "    SearchIndexerDataSourceConnection\n",
    ")\n",
    "\n",
    "load_dotenv()\n",
    "search_endpoint = os.getenv(\"AZURE_SEARCH_ENDPOINT\")\n",
    "search_key = os.getenv(\"AZURE_SEARCH_API_KEY\")\n",
    "aoai_endpoint = os.getenv(\"AZURE_OPENAI_ENDPOINT\")\n",
    "aoai_key = os.getenv(\"AZURE_OPENAI_API_KEY\")\n",
    "embedding_deployment = os.getenv(\"AZURE_OPENAI_EMBEDDING_DEPLOYMENT_NAME\")\n",
    "chat_deployment = os.getenv(\"AZURE_OPENAI_CHAT_DEPLOYMENT_NAME\")\n",
    "storage_connection_string = os.getenv(\"AZURE_STORAGE_CONNECTION\")"
   ]
  },
  {
   "cell_type": "code",
   "execution_count": null,
   "id": "f6ccc6fd",
   "metadata": {},
   "outputs": [],
   "source": [
    "search_credential = AzureKeyCredential(search_key)"
   ]
  },
  {
   "cell_type": "markdown",
   "id": "ac966965",
   "metadata": {},
   "source": [
    "### 1.1.1 Index 정의하기"
   ]
  },
  {
   "cell_type": "markdown",
   "id": "27c5a503",
   "metadata": {},
   "source": [
    "DB에 테이블 만들 때 각 컬럼별 속성 정의하듯이, 그런 느낌"
   ]
  },
  {
   "cell_type": "code",
   "execution_count": null,
   "id": "25be1ca9",
   "metadata": {},
   "outputs": [],
   "source": [
    "# Create a search index\n",
    "index_name = \"aoai-dev-day-index\"\n",
    "client = SearchIndexClient(endpoint=search_endpoint, credential=search_credential)\n",
    "fields = [\n",
    "    SearchField(name=\"parent_id\", type=SearchFieldDataType.String),\n",
    "    SearchField(name=\"title\", type=SearchFieldDataType.String),\n",
    "    SearchField(name=\"chunk_id\", type=SearchFieldDataType.String, key=True, sortable=True, filterable=True, facetable=True, analyzer_name=\"keyword\"),  \n",
    "    SearchField(name=\"chunk\", type=SearchFieldDataType.String, sortable=False, filterable=False, facetable=False),  \n",
    "    SearchField(name=\"text_vector\", type=SearchFieldDataType.Collection(SearchFieldDataType.Single), vector_search_dimensions=1536, vector_search_profile_name=\"myHnswProfile\")\n",
    "]"
   ]
  },
  {
   "cell_type": "code",
   "execution_count": null,
   "id": "c589f15a",
   "metadata": {},
   "outputs": [],
   "source": [
    "# Configure the vector search configuration  \n",
    "vector_search = VectorSearch(  \n",
    "    algorithms=[  \n",
    "        HnswAlgorithmConfiguration(name=\"myHnsw\"),\n",
    "    ],  \n",
    "    profiles=[  \n",
    "        VectorSearchProfile(  \n",
    "            name=\"myHnswProfile\",  \n",
    "            algorithm_configuration_name=\"myHnsw\",  \n",
    "            vectorizer_name=\"myOpenAI\",  \n",
    "        )\n",
    "    ],  \n",
    "    vectorizers=[  \n",
    "        AzureOpenAIVectorizer(  \n",
    "            vectorizer_name=\"myOpenAI\",  \n",
    "            kind=\"azureOpenAI\",  \n",
    "            parameters=AzureOpenAIVectorizerParameters(  \n",
    "                resource_url=aoai_endpoint,\n",
    "                api_key=aoai_key,\n",
    "                deployment_name=embedding_deployment,\n",
    "                model_name=\"text-embedding-3-large\"\n",
    "            ),\n",
    "        ),  \n",
    "    ], \n",
    ")  "
   ]
  },
  {
   "cell_type": "code",
   "execution_count": null,
   "id": "ef54d227",
   "metadata": {},
   "outputs": [],
   "source": [
    "index = SearchIndex(name=index_name, fields=fields, vector_search=vector_search)  \n",
    "result = client.create_or_update_index(index)\n",
    "print(f\"{result.name} created\")"
   ]
  },
  {
   "cell_type": "markdown",
   "id": "4fb9d6bf",
   "metadata": {},
   "source": [
    "### 1.1.2 데이터 소스 만들기"
   ]
  },
  {
   "cell_type": "code",
   "execution_count": null,
   "id": "bbc452fb",
   "metadata": {},
   "outputs": [],
   "source": [
    "# Create a data source \n",
    "indexer_client = SearchIndexerClient(endpoint=search_endpoint, credential=search_credential)\n",
    "container = SearchIndexerDataContainer(name=\"contoso\")\n",
    "data_source_connection = SearchIndexerDataSourceConnection(\n",
    "    name=\"aoai-dev-day-datasource\",\n",
    "    type=\"azureblob\",\n",
    "    connection_string=storage_connection_string,\n",
    "    container=container\n",
    ")\n",
    "data_source = indexer_client.create_or_update_data_source_connection(data_source_connection)\n",
    "\n",
    "print(f\"Data source '{data_source.name}' created or updated\")"
   ]
  },
  {
   "cell_type": "markdown",
   "id": "7b3cbb59",
   "metadata": {},
   "source": [
    "### 1.1.3 Skillset 만들기"
   ]
  },
  {
   "cell_type": "markdown",
   "id": "4d7bd130",
   "metadata": {},
   "source": [
    "- 어떤 Skill을 써서 Indexing을 진행하고, 어느 Index 필드에 결과물을 맵핑할 지 "
   ]
  },
  {
   "cell_type": "code",
   "execution_count": null,
   "id": "5b4bcb98",
   "metadata": {},
   "outputs": [],
   "source": [
    "from azure.search.documents.indexes.models import (\n",
    "    SplitSkill,\n",
    "    InputFieldMappingEntry,\n",
    "    OutputFieldMappingEntry,\n",
    "    AzureOpenAIEmbeddingSkill,\n",
    "    SearchIndexerIndexProjection,\n",
    "    SearchIndexerIndexProjectionSelector,\n",
    "    SearchIndexerIndexProjectionsParameters,\n",
    "    IndexProjectionMode,\n",
    "    SearchIndexerSkillset\n",
    ")\n",
    "\n",
    "# Create a skillset  \n",
    "skillset_name = \"aoai-dev-day-skillset\"\n",
    "\n",
    "split_skill = SplitSkill(  \n",
    "    description=\"Split skill to chunk documents\",  \n",
    "    text_split_mode=\"pages\",  \n",
    "    context=\"/document\",  \n",
    "    maximum_page_length=300,  \n",
    "    page_overlap_length=0,  \n",
    "    inputs=[  \n",
    "        InputFieldMappingEntry(name=\"text\", source=\"/document/content\"),  \n",
    "    ],  \n",
    "    outputs=[  \n",
    "        OutputFieldMappingEntry(name=\"textItems\", target_name=\"pages\")  \n",
    "    ],  \n",
    ")  \n",
    "  \n",
    "embedding_skill = AzureOpenAIEmbeddingSkill(  \n",
    "    description=\"Skill to generate embeddings via Azure OpenAI\",  \n",
    "    context=\"/document/pages/*\",  \n",
    "    resource_url=aoai_endpoint,\n",
    "    api_key=aoai_key,\n",
    "    deployment_name=embedding_deployment,  \n",
    "    model_name=\"text-embedding-3-large\",\n",
    "    dimensions=1536,\n",
    "    inputs=[  \n",
    "        InputFieldMappingEntry(name=\"text\", source=\"/document/pages/*\"),  \n",
    "    ],  \n",
    "    outputs=[  \n",
    "        OutputFieldMappingEntry(name=\"embedding\", target_name=\"text_vector\")  \n",
    "    ],  \n",
    ")\n",
    "\n",
    "index_projections = SearchIndexerIndexProjection(  \n",
    "    selectors=[  \n",
    "        SearchIndexerIndexProjectionSelector(  \n",
    "            target_index_name=index_name,\n",
    "            parent_key_field_name=\"parent_id\",  \n",
    "            source_context=\"/document/pages/*\",  \n",
    "            mappings=[  \n",
    "                InputFieldMappingEntry(name=\"chunk\", source=\"/document/pages/*\"),  \n",
    "                InputFieldMappingEntry(name=\"text_vector\", source=\"/document/pages/*/text_vector\"),\n",
    "                InputFieldMappingEntry(name=\"title\", source=\"/document/metadata_storage_name\"),  \n",
    "            ],  \n",
    "        ),  \n",
    "    ],  \n",
    "    parameters=SearchIndexerIndexProjectionsParameters(  \n",
    "        projection_mode=IndexProjectionMode.SKIP_INDEXING_PARENT_DOCUMENTS  \n",
    "    ),  \n",
    ") "
   ]
  },
  {
   "cell_type": "code",
   "execution_count": null,
   "id": "2eaa699f",
   "metadata": {},
   "outputs": [],
   "source": [
    "skills = [split_skill, embedding_skill]\n",
    "\n",
    "skillset = SearchIndexerSkillset(  \n",
    "    name=skillset_name,  \n",
    "    description=\"Skillset to chunk documents and generating embeddings\",  \n",
    "    skills=skills,  \n",
    "    index_projection=index_projections\n",
    ")\n",
    "  \n",
    "indexer_client.create_or_update_skillset(skillset)  \n",
    "print(f\"{skillset.name} created\")"
   ]
  },
  {
   "cell_type": "markdown",
   "id": "af94c178",
   "metadata": {},
   "source": [
    "### 1.1.4 Indexer 만들기"
   ]
  },
  {
   "cell_type": "markdown",
   "id": "41ed7418",
   "metadata": {},
   "source": [
    "- data source, indexer, index 연결하는 구성 요소"
   ]
  },
  {
   "cell_type": "code",
   "execution_count": null,
   "id": "31ddbbc0",
   "metadata": {},
   "outputs": [],
   "source": [
    "from azure.search.documents.indexes.models import (\n",
    "    SearchIndexer\n",
    ")\n",
    "\n",
    "# Create an indexer  \n",
    "indexer_name = \"aoai-dev-day-indexer\" \n",
    "\n",
    "indexer_parameters = None\n",
    "\n",
    "indexer = SearchIndexer(  \n",
    "    name=indexer_name,  \n",
    "    description=\"Indexer to index documents and generate embeddings\",  \n",
    "    skillset_name=skillset_name,  \n",
    "    target_index_name=index_name,  \n",
    "    data_source_name=data_source.name,\n",
    "    parameters=indexer_parameters\n",
    ")  \n",
    "\n",
    "# Create and run the indexer  \n",
    "indexer_result = indexer_client.create_or_update_indexer(indexer)  \n",
    "\n",
    "print(f' {indexer_name} is created and running. Give the indexer a few minutes before running a query.')  "
   ]
  },
  {
   "cell_type": "markdown",
   "id": "f40d2a98",
   "metadata": {},
   "source": [
    "## 1.2 Retrieval 구현하기 (Vector Search를 활용하여)"
   ]
  },
  {
   "cell_type": "code",
   "execution_count": null,
   "id": "37fbc3c4",
   "metadata": {},
   "outputs": [],
   "source": [
    "from azure.search.documents import SearchClient\n",
    "from azure.search.documents.models import VectorizableTextQuery\n",
    "\n",
    "# Vector Search using text-to-vector conversion of the query string\n",
    "query = \"임플란트 했는데 사내 실비 보험으로 청구 가능한가요?\"  \n",
    "\n",
    "search_client = SearchClient(endpoint=search_endpoint, credential=search_credential, index_name=index_name)\n",
    "vector_query = VectorizableTextQuery(text=query, k_nearest_neighbors=50, fields=\"text_vector\")\n",
    "  \n",
    "results = search_client.search(  \n",
    "    # search_text=query,  \n",
    "    vector_queries= [vector_query],\n",
    "    select=[\"title\", \"chunk\"],\n",
    "    top=4\n",
    ")  \n",
    "  \n",
    "for result in results:  \n",
    "    print(f\"Score: {result['@search.score']}\")\n",
    "    print(f\"Chunk: {result['chunk']}\")"
   ]
  },
  {
   "cell_type": "markdown",
   "id": "73a85d0d",
   "metadata": {},
   "source": [
    "## 1.3 Augmentation 단계 구현하기"
   ]
  },
  {
   "cell_type": "code",
   "execution_count": null,
   "id": "8fd0574f",
   "metadata": {},
   "outputs": [],
   "source": [
    "# Provide instructions to the model\n",
    "PROMPT=\"\"\"\n",
    "너는 인사 지원 에이전트야. 친절하게 이모티콘을 많이써서 답변하고, 잘 모르는 내용이 있다면 HR팀에 문의해야 한다고 답변할 것.\n",
    "Query: {query}\n",
    "Sources:\\n{sources}\n",
    "\"\"\""
   ]
  },
  {
   "cell_type": "code",
   "execution_count": null,
   "id": "8383c7ee",
   "metadata": {},
   "outputs": [],
   "source": [
    "results = search_client.search(  \n",
    "    # search_text=query,  \n",
    "    vector_queries= [vector_query],\n",
    "    select=[\"title\", \"chunk\"],\n",
    "    top=4\n",
    ")  \n",
    "\n",
    "sources_formatted = \"====\\n\".join([f'TITLE: {document[\"title\"]}, CONTENT: {document[\"chunk\"]}' for document in results])"
   ]
  },
  {
   "cell_type": "code",
   "execution_count": null,
   "id": "3d2c3147",
   "metadata": {},
   "outputs": [],
   "source": [
    "sources_formatted"
   ]
  },
  {
   "cell_type": "code",
   "execution_count": null,
   "id": "c7022d63",
   "metadata": {},
   "outputs": [],
   "source": [
    "AUGMENTED_QUERY = PROMPT.format(query=query, sources=sources_formatted)"
   ]
  },
  {
   "cell_type": "markdown",
   "id": "fb821e6e",
   "metadata": {},
   "source": [
    "## 1.4 Generation 단계 구현하기"
   ]
  },
  {
   "cell_type": "markdown",
   "id": "b92c37a7",
   "metadata": {},
   "source": [
    "### 1.4.1 RAG 안한 것"
   ]
  },
  {
   "cell_type": "code",
   "execution_count": null,
   "id": "6289212a",
   "metadata": {},
   "outputs": [],
   "source": [
    "# Import libraries\n",
    "from openai import AzureOpenAI\n",
    "\n",
    "openai_client = AzureOpenAI(\n",
    "     api_version=\"2024-12-01-preview\",\n",
    "     azure_endpoint=aoai_endpoint,\n",
    "     api_key=aoai_key\n",
    " )\n",
    "\n",
    "deployment_name = chat_deployment\n",
    "\n",
    "response = openai_client.chat.completions.create(\n",
    "    messages=[\n",
    "        {\n",
    "            \"role\": \"user\",\n",
    "            \"content\": query\n",
    "        }\n",
    "    ],\n",
    "    model=deployment_name\n",
    ")\n",
    "\n",
    "print(response.choices[0].message.content)"
   ]
  },
  {
   "cell_type": "markdown",
   "id": "36f3f934",
   "metadata": {},
   "source": [
    "### 1.4.2 RAG 적용한 것"
   ]
  },
  {
   "cell_type": "code",
   "execution_count": null,
   "id": "49332447",
   "metadata": {},
   "outputs": [],
   "source": [
    "# Import libraries\n",
    "from openai import AzureOpenAI\n",
    "\n",
    "# Set up the Azure OpenAI client\n",
    "openai_client = AzureOpenAI(\n",
    "     api_version=\"2024-12-01-preview\",\n",
    "     azure_endpoint=aoai_endpoint,\n",
    "     api_key=aoai_key\n",
    " )\n",
    "\n",
    "deployment_name = chat_deployment\n",
    "\n",
    "response = openai_client.chat.completions.create(\n",
    "    messages=[\n",
    "        {\n",
    "            \"role\": \"user\",\n",
    "            \"content\": AUGMENTED_QUERY\n",
    "        }\n",
    "    ],\n",
    "    model=deployment_name\n",
    ")\n",
    "\n",
    "print(response.choices[0].message.content)"
   ]
  },
  {
   "cell_type": "markdown",
   "id": "abc6da9d",
   "metadata": {},
   "source": [
    "## 1.5 Naive RAG 전체 흐름 테스트 해보기"
   ]
  },
  {
   "cell_type": "code",
   "execution_count": null,
   "id": "8e5ea504",
   "metadata": {},
   "outputs": [],
   "source": [
    "# Retrieval\n",
    "query = \"임플란트 했는데 사내 실비 보험으로 청구 가능한가요?\"  \n",
    "\n",
    "search_client = SearchClient(endpoint=search_endpoint, credential=search_credential, index_name=index_name)\n",
    "vector_query = VectorizableTextQuery(text=query, k_nearest_neighbors=50, fields=\"text_vector\")\n",
    "  \n",
    "results = search_client.search(  \n",
    "    vector_queries= [vector_query],\n",
    "    select=[\"title\", \"chunk\"],\n",
    "    top=4\n",
    ")\n",
    "\n",
    "#Augmented\n",
    "PROMPT=\"\"\"\n",
    "너는 인사 지원 에이전트야. 친절하게 이모티콘을 많이써서 답변하고, 잘 모르는 내용이 있다면 HR팀에 문의해야 한다고 답변할 것.\n",
    "Query: {query}\n",
    "Sources:\\n{sources}\n",
    "\"\"\"\n",
    "\n",
    "sources_formatted = \"====\\n\".join([f'TITLE: {document[\"title\"]}, CONTENT: {document[\"chunk\"]}' for document in results])\n",
    "\n",
    "AUGMENTED_QUERY = PROMPT.format(query=query, sources=sources_formatted)\n",
    "\n",
    "#Generation\n",
    "openai_client = AzureOpenAI(\n",
    "     api_version=\"2024-12-01-preview\",\n",
    "     azure_endpoint=aoai_endpoint,\n",
    "     api_key=aoai_key\n",
    " )\n",
    "\n",
    "deployment_name = chat_deployment\n",
    "\n",
    "response = openai_client.chat.completions.create(\n",
    "    messages=[\n",
    "        {\n",
    "            \"role\": \"user\",\n",
    "            \"content\": AUGMENTED_QUERY\n",
    "        }\n",
    "    ],\n",
    "    model=deployment_name\n",
    ")\n",
    "\n",
    "print(response.choices[0].message.content)\n"
   ]
  },
  {
   "cell_type": "markdown",
   "id": "c41e4000",
   "metadata": {},
   "source": [
    "## 1.6 Naive RAG 구조가 한계를 보이는 시나리오 확인하기"
   ]
  },
  {
   "cell_type": "code",
   "execution_count": null,
   "id": "c92319c5",
   "metadata": {},
   "outputs": [],
   "source": [
    "# Retrieval\n",
    "query = \"치과에서 임플란트랑 충치 치료를 최근에 했는데 사내 실비 보험으로 청구 가능한가요? 그리고 수술 관련 때문에 입원을 해야 할 것 같은데 병가를 사용할 수 있나요?\"\n",
    "\n",
    "search_client = SearchClient(endpoint=search_endpoint, credential=search_credential, index_name=index_name)\n",
    "vector_query = VectorizableTextQuery(text=query, k_nearest_neighbors=50, fields=\"text_vector\")\n",
    "  \n",
    "results = search_client.search(  \n",
    "    vector_queries= [vector_query],\n",
    "    select=[\"title\", \"chunk\"],\n",
    "    top=4\n",
    ")\n",
    "\n",
    "#Augmented\n",
    "PROMPT=\"\"\"\n",
    "너는 인사 지원 에이전트야. 친절하게 이모티콘을 많이써서 답변하고, 참고해야 하는 자료 중에 관련 내용이 없다면 모르겠다고 답변할것. 그리고 관련 문의는 HR팀에게 해야 한다고 답변할 것.\n",
    "Query: {query}\n",
    "Sources:\\n{sources}\n",
    "\"\"\"\n",
    "\n",
    "sources_formatted = \"====\\n\".join([f'TITLE: {document[\"title\"]}, CONTENT: {document[\"chunk\"]}' for document in results])\n",
    "\n",
    "AUGMENTED_QUERY = PROMPT.format(query=query, sources=sources_formatted)\n",
    "\n",
    "#Generation\n",
    "openai_client = AzureOpenAI(\n",
    "     api_version=\"2024-12-01-preview\",\n",
    "     azure_endpoint=aoai_endpoint,\n",
    "     api_key=aoai_key\n",
    " )\n",
    "\n",
    "deployment_name = chat_deployment\n",
    "\n",
    "response = openai_client.chat.completions.create(\n",
    "    messages=[\n",
    "        {\n",
    "            \"role\": \"user\",\n",
    "            \"content\": AUGMENTED_QUERY\n",
    "        }\n",
    "    ],\n",
    "    model=deployment_name,\n",
    "    temperature=0\n",
    ")\n",
    "\n",
    "print(response.choices[0].message.content)\n"
   ]
  },
  {
   "cell_type": "code",
   "execution_count": null,
   "id": "0bc5f052",
   "metadata": {},
   "outputs": [],
   "source": [
    "# Retrieval\n",
    "query = \"치과에서 임플란트랑 충치 치료를 최근에 했는데 사내 실비 보험으로 청구 가능한가요? 그리고 수술 관련 때문에 입원을 해야 할 것 같은데 병가를 사용할 수 있나요?\"\n",
    "\n",
    "search_client = SearchClient(endpoint=search_endpoint, credential=search_credential, index_name=index_name)\n",
    "vector_query = VectorizableTextQuery(text=query, k_nearest_neighbors=50, fields=\"text_vector\")\n",
    "  \n",
    "results = search_client.search(  \n",
    "    vector_queries= [vector_query],\n",
    "    select=[\"title\", \"chunk\"],\n",
    "    top=4\n",
    ")\n",
    "\n",
    "for result in results:  \n",
    "    print(f\"Score: {result['@search.score']}\")\n",
    "    print(f\"Chunk: {result['title']}\")"
   ]
  }
 ],
 "metadata": {
  "kernelspec": {
   "display_name": "aoaidevday",
   "language": "python",
   "name": "python3"
  },
  "language_info": {
   "codemirror_mode": {
    "name": "ipython",
    "version": 3
   },
   "file_extension": ".py",
   "mimetype": "text/x-python",
   "name": "python",
   "nbconvert_exporter": "python",
   "pygments_lexer": "ipython3",
   "version": "3.11.11"
  }
 },
 "nbformat": 4,
 "nbformat_minor": 5
}
